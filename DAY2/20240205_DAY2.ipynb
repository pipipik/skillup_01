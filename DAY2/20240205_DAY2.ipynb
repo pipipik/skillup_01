{
 "cells": [
  {
   "cell_type": "code",
   "execution_count": 4,
   "id": "6138658c",
   "metadata": {},
   "outputs": [],
   "source": [
    "# 関数演習\n",
    "# 問題1\n",
    "def bmi_cal(height, weight):\n",
    "    bmi = weight/(height*height)\n",
    "    return bmi"
   ]
  },
  {
   "cell_type": "code",
   "execution_count": null,
   "id": "fa495dd8",
   "metadata": {},
   "outputs": [],
   "source": [
    "bmi_cal(1.5)"
   ]
  }
 ],
 "metadata": {
  "kernelspec": {
   "display_name": "Python 3 (ipykernel)",
   "language": "python",
   "name": "python3"
  },
  "language_info": {
   "codemirror_mode": {
    "name": "ipython",
    "version": 3
   },
   "file_extension": ".py",
   "mimetype": "text/x-python",
   "name": "python",
   "nbconvert_exporter": "python",
   "pygments_lexer": "ipython3",
   "version": "3.9.13"
  }
 },
 "nbformat": 4,
 "nbformat_minor": 5
}
