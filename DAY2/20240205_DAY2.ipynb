{
 "cells": [
  {
   "cell_type": "code",
   "execution_count": 7,
   "id": "ca321a2c",
   "metadata": {},
   "outputs": [],
   "source": [
    "# 関数演習\n",
    "# 問題1\n",
    "def bmi_cal(height, weight):\n",
    "    bmi = weight/(height*height)\n",
    "    bmi_jdg(bmi)\n",
    "    return bmi"
   ]
  },
  {
   "cell_type": "code",
   "execution_count": 6,
   "id": "aa7bb0fe",
   "metadata": {},
   "outputs": [],
   "source": [
    "# 問題2\n",
    "def bmi_jdg(bmi):\n",
    "    if bmi < 18:\n",
    "        print(\"痩せ気味\")\n",
    "    elif bmi >= 18 and bmi < 25:\n",
    "        print(\"普通\")\n",
    "    else:\n",
    "        print(\"太り気味\")"
   ]
  },
  {
   "cell_type": "code",
   "execution_count": 8,
   "id": "dcb877e9",
   "metadata": {},
   "outputs": [
    {
     "name": "stdout",
     "output_type": "stream",
     "text": [
      "普通\n"
     ]
    },
    {
     "data": {
      "text/plain": [
       "22.22222222222222"
      ]
     },
     "execution_count": 8,
     "metadata": {},
     "output_type": "execute_result"
    }
   ],
   "source": [
    "bmi_cal(1.5, 50)"
   ]
  },
  {
   "cell_type": "code",
   "execution_count": null,
   "id": "2cbf726a",
   "metadata": {},
   "outputs": [],
   "source": []
  }
 ],
 "metadata": {
  "kernelspec": {
   "display_name": "Python 3 (ipykernel)",
   "language": "python",
   "name": "python3"
  },
  "language_info": {
   "codemirror_mode": {
    "name": "ipython",
    "version": 3
   },
   "file_extension": ".py",
   "mimetype": "text/x-python",
   "name": "python",
   "nbconvert_exporter": "python",
   "pygments_lexer": "ipython3",
   "version": "3.9.13"
  }
 },
 "nbformat": 4,
 "nbformat_minor": 5
}
