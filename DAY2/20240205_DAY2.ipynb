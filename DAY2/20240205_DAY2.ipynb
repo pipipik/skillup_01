{
 "cells": [
  {
   "cell_type": "code",
   "execution_count": 18,
   "id": "6ea41a21",
   "metadata": {},
   "outputs": [],
   "source": [
    "# 関数演習\n",
    "# 問題1\n",
    "def bmi_cal(height, weight):\n",
    "    bmi = weight/(height*height)\n",
    "    return bmi"
   ]
  },
  {
   "cell_type": "code",
   "execution_count": 21,
   "id": "eb852f5b",
   "metadata": {},
   "outputs": [],
   "source": [
    "# 問題2\n",
    "def bmi_jdg(height, weight):\n",
    "    bmi = bmi_cal(height, weight)\n",
    "    if bmi < 18:\n",
    "        return \"痩せ気味\"\n",
    "    elif bmi >= 18 and bmi < 25:\n",
    "        return \"普通\"\n",
    "    else:\n",
    "        return \"太り気味\""
   ]
  },
  {
   "cell_type": "code",
   "execution_count": 22,
   "id": "2f423483",
   "metadata": {},
   "outputs": [
    {
     "data": {
      "text/plain": [
       "'普通'"
      ]
     },
     "execution_count": 22,
     "metadata": {},
     "output_type": "execute_result"
    }
   ],
   "source": [
    "# 問題3\n",
    "tanaka = {\"height\": 2, \"weight\": 80}\n",
    "bmi_cal(tanaka[\"height\"], tanaka[\"weight\"])\n",
    "bmi_jdg(tanaka[\"height\"], tanaka[\"weight\"])"
   ]
  },
  {
   "cell_type": "code",
   "execution_count": 25,
   "id": "c4785b04",
   "metadata": {},
   "outputs": [
    {
     "name": "stdout",
     "output_type": "stream",
     "text": [
      "2 * 1 = 2\n",
      "2 * 2 = 4\n",
      "2 * 3 = 6\n",
      "2 * 4 = 8\n",
      "2 * 5 = 10\n",
      "2 * 6 = 12\n",
      "2 * 7 = 14\n",
      "2 * 8 = 16\n",
      "2 * 9 = 18\n"
     ]
    }
   ],
   "source": [
    "# 問題4\n",
    "for i in range(1,10):\n",
    "    print(f\"2 * {i} = {2*i}\")"
   ]
  },
  {
   "cell_type": "code",
   "execution_count": null,
   "id": "911059bc",
   "metadata": {},
   "outputs": [],
   "source": []
  }
 ],
 "metadata": {
  "kernelspec": {
   "display_name": "Python 3 (ipykernel)",
   "language": "python",
   "name": "python3"
  },
  "language_info": {
   "codemirror_mode": {
    "name": "ipython",
    "version": 3
   },
   "file_extension": ".py",
   "mimetype": "text/x-python",
   "name": "python",
   "nbconvert_exporter": "python",
   "pygments_lexer": "ipython3",
   "version": "3.9.13"
  }
 },
 "nbformat": 4,
 "nbformat_minor": 5
}
