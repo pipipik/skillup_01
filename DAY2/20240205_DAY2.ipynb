{
 "cells": [
  {
   "cell_type": "code",
   "execution_count": 18,
   "id": "a853013f",
   "metadata": {},
   "outputs": [],
   "source": [
    "# 関数演習\n",
    "# 問題1\n",
    "def bmi_cal(height, weight):\n",
    "    bmi = weight/(height*height)\n",
    "    return bmi"
   ]
  },
  {
   "cell_type": "code",
   "execution_count": 21,
   "id": "be5ae4be",
   "metadata": {},
   "outputs": [],
   "source": [
    "# 問題2\n",
    "def bmi_jdg(height, weight):\n",
    "    bmi = bmi_cal(height, weight)\n",
    "    if bmi < 18:\n",
    "        return \"痩せ気味\"\n",
    "    elif bmi >= 18 and bmi < 25:\n",
    "        return \"普通\"\n",
    "    else:\n",
    "        return \"太り気味\""
   ]
  },
  {
   "cell_type": "code",
   "execution_count": 22,
   "id": "eb91c96b",
   "metadata": {},
   "outputs": [
    {
     "data": {
      "text/plain": [
       "'普通'"
      ]
     },
     "execution_count": 22,
     "metadata": {},
     "output_type": "execute_result"
    }
   ],
   "source": [
    "# 問題3\n",
    "tanaka = {\"height\": 2, \"weight\": 80}\n",
    "bmi_cal(tanaka[\"height\"], tanaka[\"weight\"])\n",
    "bmi_jdg(tanaka[\"height\"], tanaka[\"weight\"])"
   ]
  },
  {
   "cell_type": "code",
   "execution_count": 25,
   "id": "e315d020",
   "metadata": {},
   "outputs": [
    {
     "name": "stdout",
     "output_type": "stream",
     "text": [
      "2 * 1 = 2\n",
      "2 * 2 = 4\n",
      "2 * 3 = 6\n",
      "2 * 4 = 8\n",
      "2 * 5 = 10\n",
      "2 * 6 = 12\n",
      "2 * 7 = 14\n",
      "2 * 8 = 16\n",
      "2 * 9 = 18\n"
     ]
    }
   ],
   "source": [
    "# 問題4\n",
    "for i in range(1,10):\n",
    "    print(f\"2 * {i} = {2*i}\")"
   ]
  },
  {
   "cell_type": "code",
   "execution_count": 43,
   "id": "836aaf8f",
   "metadata": {},
   "outputs": [],
   "source": [
    "# クラス\n",
    "# 演習1\n",
    "class Human:\n",
    "    def __init__(self):\n",
    "        self.health = 100\n",
    "        self.time = 10\n",
    "        self.achieve = 0\n",
    "    def work(self):\n",
    "        self.health -= 50\n",
    "        self.time -= 1\n",
    "        self.achieve += 1\n",
    "    def rest(self):\n",
    "        self.time -= 3\n",
    "        self.health += 50"
   ]
  },
  {
   "cell_type": "code",
   "execution_count": 45,
   "id": "f3b7c26c",
   "metadata": {},
   "outputs": [
    {
     "name": "stdout",
     "output_type": "stream",
     "text": [
      "health: 100\n",
      "time: 10\n",
      "achieve: 0\n"
     ]
    }
   ],
   "source": [
    "human1 = Human() # human1という名前のインスタンスを生成\n",
    "print(\"health: {}\".format(human1.health))\n",
    "print(\"time: {}\".format(human1.time))\n",
    "print(\"achieve: {}\".format(human1.achieve))"
   ]
  },
  {
   "cell_type": "code",
   "execution_count": 46,
   "id": "902b8bbf",
   "metadata": {},
   "outputs": [
    {
     "name": "stdout",
     "output_type": "stream",
     "text": [
      "health: 50\n",
      "time: 9\n",
      "achieve: 1\n"
     ]
    }
   ],
   "source": [
    "human1.work()\n",
    "print(\"health: {}\".format(human1.health))\n",
    "print(\"time: {}\".format(human1.time))\n",
    "print(\"achieve: {}\".format(human1.achieve))"
   ]
  },
  {
   "cell_type": "code",
   "execution_count": 47,
   "id": "2b697364",
   "metadata": {},
   "outputs": [
    {
     "name": "stdout",
     "output_type": "stream",
     "text": [
      "health: 100\n",
      "time: 6\n",
      "achieve: 1\n"
     ]
    }
   ],
   "source": [
    "human1.rest()\n",
    "print(\"health: {}\".format(human1.health))\n",
    "print(\"time: {}\".format(human1.time))\n",
    "print(\"achieve: {}\".format(human1.achieve))"
   ]
  },
  {
   "cell_type": "code",
   "execution_count": null,
   "id": "9cecd8d7",
   "metadata": {},
   "outputs": [],
   "source": []
  }
 ],
 "metadata": {
  "kernelspec": {
   "display_name": "Python 3 (ipykernel)",
   "language": "python",
   "name": "python3"
  },
  "language_info": {
   "codemirror_mode": {
    "name": "ipython",
    "version": 3
   },
   "file_extension": ".py",
   "mimetype": "text/x-python",
   "name": "python",
   "nbconvert_exporter": "python",
   "pygments_lexer": "ipython3",
   "version": "3.9.13"
  }
 },
 "nbformat": 4,
 "nbformat_minor": 5
}
