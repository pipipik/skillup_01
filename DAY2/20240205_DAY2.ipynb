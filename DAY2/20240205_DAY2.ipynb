{
 "cells": [
  {
   "cell_type": "code",
   "execution_count": 18,
   "id": "fbebfdf5",
   "metadata": {},
   "outputs": [],
   "source": [
    "# 関数演習\n",
    "# 問題1\n",
    "def bmi_cal(height, weight):\n",
    "    bmi = weight/(height*height)\n",
    "    return bmi"
   ]
  },
  {
   "cell_type": "code",
   "execution_count": 21,
   "id": "a43352fd",
   "metadata": {},
   "outputs": [],
   "source": [
    "# 問題2\n",
    "def bmi_jdg(height, weight):\n",
    "    bmi = bmi_cal(height, weight)\n",
    "    if bmi < 18:\n",
    "        return \"痩せ気味\"\n",
    "    elif bmi >= 18 and bmi < 25:\n",
    "        return \"普通\"\n",
    "    else:\n",
    "        return \"太り気味\""
   ]
  },
  {
   "cell_type": "code",
   "execution_count": 22,
   "id": "c7ec662b",
   "metadata": {},
   "outputs": [
    {
     "data": {
      "text/plain": [
       "'普通'"
      ]
     },
     "execution_count": 22,
     "metadata": {},
     "output_type": "execute_result"
    }
   ],
   "source": [
    "# 問題3\n",
    "tanaka = {\"height\": 2, \"weight\": 80}\n",
    "bmi_cal(tanaka[\"height\"], tanaka[\"weight\"])\n",
    "bmi_jdg(tanaka[\"height\"], tanaka[\"weight\"])"
   ]
  },
  {
   "cell_type": "code",
   "execution_count": null,
   "id": "c8bedcf3",
   "metadata": {},
   "outputs": [],
   "source": []
  }
 ],
 "metadata": {
  "kernelspec": {
   "display_name": "Python 3 (ipykernel)",
   "language": "python",
   "name": "python3"
  },
  "language_info": {
   "codemirror_mode": {
    "name": "ipython",
    "version": 3
   },
   "file_extension": ".py",
   "mimetype": "text/x-python",
   "name": "python",
   "nbconvert_exporter": "python",
   "pygments_lexer": "ipython3",
   "version": "3.9.13"
  }
 },
 "nbformat": 4,
 "nbformat_minor": 5
}
