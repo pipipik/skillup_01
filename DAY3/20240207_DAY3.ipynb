{
 "cells": [
  {
   "cell_type": "code",
   "execution_count": 1,
   "id": "cf944a8d",
   "metadata": {},
   "outputs": [
    {
     "name": "stdout",
     "output_type": "stream",
     "text": [
      "1秒経過\n",
      "2秒経過\n",
      "3秒経過\n"
     ]
    }
   ],
   "source": [
    "import time\n",
    "for count in range(1, 4):\n",
    "    time.sleep(1)\n",
    "    print(f\"{count}秒経過\")"
   ]
  },
  {
   "cell_type": "code",
   "execution_count": 2,
   "id": "87248ef4",
   "metadata": {},
   "outputs": [
    {
     "name": "stdout",
     "output_type": "stream",
     "text": [
      "1秒経過\n",
      "2秒経過\n",
      "Python最高!\n",
      "4秒経過\n",
      "5秒経過\n",
      "Python最高!\n",
      "7秒経過\n",
      "8秒経過\n",
      "Python最高!\n"
     ]
    }
   ],
   "source": [
    "# 外部ライブラリ演習\n",
    "# 問題1\n",
    "import time\n",
    "for count in range(1, 10):\n",
    "    time.sleep(1)\n",
    "    if count%3==0:\n",
    "        print(\"Python最高!\")\n",
    "    else:\n",
    "        print(f\"{count}秒経過\")"
   ]
  },
  {
   "cell_type": "code",
   "execution_count": 5,
   "id": "d93e7423",
   "metadata": {},
   "outputs": [
    {
     "name": "stdout",
     "output_type": "stream",
     "text": [
      "[1 2 3]\n",
      "[[1 2 3]\n",
      " [4 5 6]]\n"
     ]
    }
   ],
   "source": [
    "import numpy as np\n",
    "a = np.array([1, 2, 3])\n",
    "b = np.array([[1, 2, 3], [4, 5, 6]])\n",
    "print(a)\n",
    "print(b)"
   ]
  },
  {
   "cell_type": "code",
   "execution_count": 9,
   "id": "3a085f74",
   "metadata": {},
   "outputs": [
    {
     "name": "stdout",
     "output_type": "stream",
     "text": [
      "次元数：2\n",
      "要素数：6\n",
      "何行何列：(2, 3)\n",
      "要素の型：int64\n"
     ]
    }
   ],
   "source": [
    "print(f\"次元数：{b.ndim}\")\n",
    "print(f\"要素数：{b.size}\")\n",
    "print(f\"何行何列：{b.shape}\")\n",
    "print(f\"要素の型：{b.dtype}\")"
   ]
  },
  {
   "cell_type": "code",
   "execution_count": 10,
   "id": "fcbace50",
   "metadata": {},
   "outputs": [
    {
     "name": "stdout",
     "output_type": "stream",
     "text": [
      "[10 15 20 25]\n",
      "[0.         0.34906585 0.6981317  1.04719755 1.3962634  1.74532925\n",
      " 2.0943951  2.44346095 2.7925268  3.14159265]\n"
     ]
    }
   ],
   "source": [
    "#np.arange(始, 終, 間隔)\n",
    "print(np.arange(10, 30, 5))\n",
    "\n",
    "#等間隔な数列を生成(始, 終, 個数)\n",
    "print(np.linspace(0, np.pi, 10))"
   ]
  },
  {
   "cell_type": "code",
   "execution_count": 12,
   "id": "39215237",
   "metadata": {},
   "outputs": [
    {
     "name": "stdout",
     "output_type": "stream",
     "text": [
      "[ 0  1  2  3  4  5  6  7  8  9 10 11 12 13 14]\n"
     ]
    }
   ],
   "source": [
    "# numpy配列の作り方\n",
    "# 問題1\n",
    "import numpy as np\n",
    "a = np.arange(0, 15)\n",
    "print(a)"
   ]
  },
  {
   "cell_type": "code",
   "execution_count": 14,
   "id": "c7f84dcd",
   "metadata": {},
   "outputs": [
    {
     "name": "stdout",
     "output_type": "stream",
     "text": [
      "[[ 0  1  2  3  4]\n",
      " [ 5  6  7  8  9]\n",
      " [10 11 12 13 14]]\n"
     ]
    }
   ],
   "source": [
    "# 問題2\n",
    "b = a.reshape(3, 5)\n",
    "print(b)"
   ]
  },
  {
   "cell_type": "code",
   "execution_count": 21,
   "id": "12dbbf1c",
   "metadata": {},
   "outputs": [
    {
     "name": "stdout",
     "output_type": "stream",
     "text": [
      "(15,)\n",
      "(3, 5)\n"
     ]
    }
   ],
   "source": [
    "# 問題3\n",
    "print(a.shape)\n",
    "print(b.shape)"
   ]
  },
  {
   "cell_type": "code",
   "execution_count": 22,
   "id": "093e97de",
   "metadata": {},
   "outputs": [
    {
     "name": "stdout",
     "output_type": "stream",
     "text": [
      "[ 8 12 16]\n",
      "[1 7]\n",
      "[[ 1  3  5]\n",
      " [ 8 12 16]]\n"
     ]
    }
   ],
   "source": [
    "b=np.arange(1,13,2).reshape(2,3)\n",
    "#列ごとの和\n",
    "print(b.sum(axis=0))\n",
    "#行中の最小値\n",
    "print(b.min(axis=1))\n",
    "#各行までの累積和\n",
    "print(b.cumsum(axis=0))"
   ]
  },
  {
   "cell_type": "code",
   "execution_count": 25,
   "id": "f4358b9d",
   "metadata": {},
   "outputs": [
    {
     "name": "stdout",
     "output_type": "stream",
     "text": [
      "[ 1  2  3  4  5  6  7  8  9 10]\n"
     ]
    }
   ],
   "source": [
    "# Numpy配列に対する数学的な演算\n",
    "# 問題1\n",
    "a = np.arange(1, 11)\n",
    "print(a)"
   ]
  },
  {
   "cell_type": "code",
   "execution_count": 31,
   "id": "5495a8bd",
   "metadata": {},
   "outputs": [
    {
     "name": "stdout",
     "output_type": "stream",
     "text": [
      "[[ 1  2  3  4  5]\n",
      " [ 6  7  8  9 10]]\n"
     ]
    }
   ],
   "source": [
    "# 問題2\n",
    "b = a.reshape(2, 5)\n",
    "print(b)"
   ]
  },
  {
   "cell_type": "code",
   "execution_count": 32,
   "id": "10705d58",
   "metadata": {},
   "outputs": [
    {
     "name": "stdout",
     "output_type": "stream",
     "text": [
      "[1 2 3 4 5]\n",
      "[ 6  7  8  9 10]\n",
      "b0 + b1 = [ 7  9 11 13 15]\n",
      "b0 - b1 = [-5 -5 -5 -5 -5]\n",
      "b0 * b1 = [ 6 14 24 36 50]\n",
      "b0 / b1 = [0.16666667 0.28571429 0.375      0.44444444 0.5       ]\n"
     ]
    }
   ],
   "source": [
    "# 問題3\n",
    "b0 = np.arange(1, 6)\n",
    "b1 = np.arange(6, 11)\n",
    "print(b0)\n",
    "print(b1)\n",
    "print(f\"b0 + b1 = {b0 + b1}\")\n",
    "print(f\"b0 - b1 = {b0 - b1}\")\n",
    "print(f\"b0 * b1 = {b0 * b1}\")\n",
    "print(f\"b0 / b1 = {b0 / b1}\")"
   ]
  },
  {
   "cell_type": "code",
   "execution_count": null,
   "id": "8ce97cd7",
   "metadata": {},
   "outputs": [],
   "source": []
  }
 ],
 "metadata": {
  "kernelspec": {
   "display_name": "Python 3 (ipykernel)",
   "language": "python",
   "name": "python3"
  },
  "language_info": {
   "codemirror_mode": {
    "name": "ipython",
    "version": 3
   },
   "file_extension": ".py",
   "mimetype": "text/x-python",
   "name": "python",
   "nbconvert_exporter": "python",
   "pygments_lexer": "ipython3",
   "version": "3.9.13"
  }
 },
 "nbformat": 4,
 "nbformat_minor": 5
}
