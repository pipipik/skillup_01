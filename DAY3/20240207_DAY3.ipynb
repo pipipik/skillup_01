{
 "cells": [
  {
   "cell_type": "code",
   "execution_count": 1,
   "id": "a8bbc2cf",
   "metadata": {},
   "outputs": [
    {
     "name": "stdout",
     "output_type": "stream",
     "text": [
      "1秒経過\n",
      "2秒経過\n",
      "3秒経過\n"
     ]
    }
   ],
   "source": [
    "import time\n",
    "for count in range(1, 4):\n",
    "    time.sleep(1)\n",
    "    print(f\"{count}秒経過\")"
   ]
  },
  {
   "cell_type": "code",
   "execution_count": 2,
   "id": "18b127bf",
   "metadata": {},
   "outputs": [
    {
     "name": "stdout",
     "output_type": "stream",
     "text": [
      "1秒経過\n",
      "2秒経過\n",
      "Python最高!\n",
      "4秒経過\n",
      "5秒経過\n",
      "Python最高!\n",
      "7秒経過\n",
      "8秒経過\n",
      "Python最高!\n"
     ]
    }
   ],
   "source": [
    "# 外部ライブラリ演習\n",
    "# 問題1\n",
    "import time\n",
    "for count in range(1, 10):\n",
    "    time.sleep(1)\n",
    "    if count%3==0:\n",
    "        print(\"Python最高!\")\n",
    "    else:\n",
    "        print(f\"{count}秒経過\")"
   ]
  },
  {
   "cell_type": "code",
   "execution_count": null,
   "id": "beb5aa1d",
   "metadata": {},
   "outputs": [],
   "source": []
  }
 ],
 "metadata": {
  "kernelspec": {
   "display_name": "Python 3 (ipykernel)",
   "language": "python",
   "name": "python3"
  },
  "language_info": {
   "codemirror_mode": {
    "name": "ipython",
    "version": 3
   },
   "file_extension": ".py",
   "mimetype": "text/x-python",
   "name": "python",
   "nbconvert_exporter": "python",
   "pygments_lexer": "ipython3",
   "version": "3.9.13"
  }
 },
 "nbformat": 4,
 "nbformat_minor": 5
}
