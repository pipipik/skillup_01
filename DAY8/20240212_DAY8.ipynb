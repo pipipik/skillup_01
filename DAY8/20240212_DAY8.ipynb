{
 "cells": [
  {
   "cell_type": "code",
   "execution_count": 1,
   "id": "93d628cd",
   "metadata": {},
   "outputs": [],
   "source": [
    "import numpy as np\n",
    "import pandas as pd\n",
    "from matplotlib import pyplot as plt\n",
    "import seaborn as sns\n",
    "%matplotlib inline"
   ]
  },
  {
   "cell_type": "code",
   "execution_count": 2,
   "id": "afed8e15",
   "metadata": {},
   "outputs": [],
   "source": [
    "train = pd.read_pickle(\"./titanic/titanic_train.pkl\")\n",
    "test = pd.read_pickle(\"./titanic/titanic_test.pkl\")\n",
    "data = [train,test]"
   ]
  },
  {
   "cell_type": "code",
   "execution_count": 3,
   "id": "3edf6846",
   "metadata": {},
   "outputs": [
    {
     "data": {
      "text/html": [
       "<div>\n",
       "<style scoped>\n",
       "    .dataframe tbody tr th:only-of-type {\n",
       "        vertical-align: middle;\n",
       "    }\n",
       "\n",
       "    .dataframe tbody tr th {\n",
       "        vertical-align: top;\n",
       "    }\n",
       "\n",
       "    .dataframe thead th {\n",
       "        text-align: right;\n",
       "    }\n",
       "</style>\n",
       "<table border=\"1\" class=\"dataframe\">\n",
       "  <thead>\n",
       "    <tr style=\"text-align: right;\">\n",
       "      <th></th>\n",
       "      <th>Survived</th>\n",
       "      <th>Pclass</th>\n",
       "      <th>Sex</th>\n",
       "      <th>SibSp</th>\n",
       "      <th>Parch</th>\n",
       "      <th>Embarked</th>\n",
       "      <th>Title</th>\n",
       "      <th>Age_band</th>\n",
       "      <th>Fare_band</th>\n",
       "    </tr>\n",
       "  </thead>\n",
       "  <tbody>\n",
       "    <tr>\n",
       "      <th>0</th>\n",
       "      <td>0</td>\n",
       "      <td>3</td>\n",
       "      <td>1</td>\n",
       "      <td>1</td>\n",
       "      <td>0</td>\n",
       "      <td>0</td>\n",
       "      <td>0</td>\n",
       "      <td>1</td>\n",
       "      <td>0</td>\n",
       "    </tr>\n",
       "    <tr>\n",
       "      <th>1</th>\n",
       "      <td>1</td>\n",
       "      <td>1</td>\n",
       "      <td>0</td>\n",
       "      <td>1</td>\n",
       "      <td>0</td>\n",
       "      <td>1</td>\n",
       "      <td>2</td>\n",
       "      <td>3</td>\n",
       "      <td>4</td>\n",
       "    </tr>\n",
       "    <tr>\n",
       "      <th>2</th>\n",
       "      <td>1</td>\n",
       "      <td>3</td>\n",
       "      <td>0</td>\n",
       "      <td>0</td>\n",
       "      <td>0</td>\n",
       "      <td>0</td>\n",
       "      <td>1</td>\n",
       "      <td>1</td>\n",
       "      <td>0</td>\n",
       "    </tr>\n",
       "    <tr>\n",
       "      <th>3</th>\n",
       "      <td>1</td>\n",
       "      <td>1</td>\n",
       "      <td>0</td>\n",
       "      <td>1</td>\n",
       "      <td>0</td>\n",
       "      <td>0</td>\n",
       "      <td>2</td>\n",
       "      <td>2</td>\n",
       "      <td>3</td>\n",
       "    </tr>\n",
       "    <tr>\n",
       "      <th>4</th>\n",
       "      <td>0</td>\n",
       "      <td>3</td>\n",
       "      <td>1</td>\n",
       "      <td>0</td>\n",
       "      <td>0</td>\n",
       "      <td>0</td>\n",
       "      <td>0</td>\n",
       "      <td>2</td>\n",
       "      <td>1</td>\n",
       "    </tr>\n",
       "  </tbody>\n",
       "</table>\n",
       "</div>"
      ],
      "text/plain": [
       "   Survived  Pclass  Sex  SibSp  Parch  Embarked  Title Age_band Fare_band\n",
       "0         0       3    1      1      0         0      0        1         0\n",
       "1         1       1    0      1      0         1      2        3         4\n",
       "2         1       3    0      0      0         0      1        1         0\n",
       "3         1       1    0      1      0         0      2        2         3\n",
       "4         0       3    1      0      0         0      0        2         1"
      ]
     },
     "execution_count": 3,
     "metadata": {},
     "output_type": "execute_result"
    }
   ],
   "source": [
    "data[0].head()"
   ]
  },
  {
   "cell_type": "code",
   "execution_count": 5,
   "id": "6f9c1584",
   "metadata": {},
   "outputs": [],
   "source": [
    "from sklearn.model_selection import train_test_split"
   ]
  },
  {
   "cell_type": "code",
   "execution_count": 6,
   "id": "36b1ba3d",
   "metadata": {},
   "outputs": [],
   "source": [
    "#tr_train,tr_testに振り分けられるデータはランダムに決まる\n",
    "# random_state = 1234　は振り分け方を固定するための値\n",
    "tr_train,tr_test=train_test_split(train, test_size=0.3, random_state = 1234) "
   ]
  },
  {
   "cell_type": "code",
   "execution_count": 7,
   "id": "00951e71",
   "metadata": {},
   "outputs": [],
   "source": [
    "#訓練用の説明変数\n",
    "tr_train_X = tr_train[train.columns[1:]]\n",
    "\n",
    "# 訓練用の目的変数\n",
    "tr_train_Y = tr_train[train.columns[0]]\n",
    "\n",
    "# 評価用の説明変数\n",
    "tr_test_X = tr_test[train.columns[1:]]\n",
    "\n",
    "# 評価用の目的変数\n",
    "tr_test_Y = tr_test[train.columns[0]]"
   ]
  },
  {
   "cell_type": "code",
   "execution_count": 9,
   "id": "da53d7c9",
   "metadata": {},
   "outputs": [],
   "source": [
    "# sklearnの決定木をimport\n",
    "from sklearn import tree\n",
    "\n",
    "# 決定木分類器による空の分類器を生成\n",
    "model=tree.DecisionTreeClassifier()"
   ]
  },
  {
   "cell_type": "code",
   "execution_count": 10,
   "id": "2f12a695",
   "metadata": {},
   "outputs": [],
   "source": [
    "# 訓練用の説明変数,目的変数を与えて学習させる\n",
    "model.fit(tr_train_X,tr_train_Y)\n",
    "\n",
    "# 生成されたモデルを用いて、テスト用の説明変数に対する予測値を入手\n",
    "predict= model.predict(tr_test_X)"
   ]
  },
  {
   "cell_type": "code",
   "execution_count": 11,
   "id": "b4a5e482",
   "metadata": {},
   "outputs": [
    {
     "name": "stdout",
     "output_type": "stream",
     "text": [
      "判別率： 0.7835820895522388\n"
     ]
    }
   ],
   "source": [
    "from sklearn import metrics\n",
    "\n",
    "# 精度をmax 1.0で返すmatrics.accuracy_scoreを利用\n",
    "# 引数にモデルにより予測された値と、実際の目的変数を与えることで正解率を計算\n",
    "print('判別率：',metrics.accuracy_score(predict, tr_test_Y))"
   ]
  },
  {
   "cell_type": "code",
   "execution_count": null,
   "id": "89eca64a",
   "metadata": {},
   "outputs": [],
   "source": []
  }
 ],
 "metadata": {
  "kernelspec": {
   "display_name": "Python 3 (ipykernel)",
   "language": "python",
   "name": "python3"
  },
  "language_info": {
   "codemirror_mode": {
    "name": "ipython",
    "version": 3
   },
   "file_extension": ".py",
   "mimetype": "text/x-python",
   "name": "python",
   "nbconvert_exporter": "python",
   "pygments_lexer": "ipython3",
   "version": "3.9.13"
  }
 },
 "nbformat": 4,
 "nbformat_minor": 5
}
