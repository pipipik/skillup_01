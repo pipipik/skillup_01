{
 "cells": [
  {
   "cell_type": "code",
   "execution_count": 1,
   "id": "9d2e0c79",
   "metadata": {},
   "outputs": [
    {
     "name": "stdout",
     "output_type": "stream",
     "text": [
      "20.0\n"
     ]
    }
   ],
   "source": [
    "# 問題1\n",
    "value1, value2 = 1.5, 45\n",
    "answer_value = value2 / (value1 * value1)\n",
    "print(answer_value)"
   ]
  },
  {
   "cell_type": "code",
   "execution_count": 8,
   "id": "f69b2591",
   "metadata": {},
   "outputs": [
    {
     "name": "stdout",
     "output_type": "stream",
     "text": [
      "satoさんのBMIは20.0です\n"
     ]
    }
   ],
   "source": [
    "# 問題2\n",
    "sato_dict = {\"height\": 1.5, \"weight\": 45}\n",
    "BMI = sato_dict[\"weight\"] / (sato_dict[\"height\"]**2)\n",
    "print(f\"satoさんのBMIは{BMI}です\")"
   ]
  },
  {
   "cell_type": "code",
   "execution_count": 12,
   "id": "a4e3dfe3",
   "metadata": {},
   "outputs": [
    {
     "name": "stdout",
     "output_type": "stream",
     "text": [
      "1024\n",
      "1024\n",
      "1024\n"
     ]
    }
   ],
   "source": [
    "# 制御文\n",
    "# 問題1\n",
    "ans1 = 2**10\n",
    "print(ans1)\n",
    "# 問題2\n",
    "ans2 = 1\n",
    "for _ in range(10):\n",
    "    ans2 *= 2\n",
    "print(ans2)\n",
    "# 問題3\n",
    "count = 0\n",
    "ans3 = 1\n",
    "while count < 10:\n",
    "    ans3 *= 2\n",
    "    count += 1\n",
    "print(ans3)"
   ]
  },
  {
   "cell_type": "code",
   "execution_count": null,
   "id": "fa2df69b",
   "metadata": {},
   "outputs": [],
   "source": []
  }
 ],
 "metadata": {
  "kernelspec": {
   "display_name": "Python 3 (ipykernel)",
   "language": "python",
   "name": "python3"
  },
  "language_info": {
   "codemirror_mode": {
    "name": "ipython",
    "version": 3
   },
   "file_extension": ".py",
   "mimetype": "text/x-python",
   "name": "python",
   "nbconvert_exporter": "python",
   "pygments_lexer": "ipython3",
   "version": "3.9.13"
  }
 },
 "nbformat": 4,
 "nbformat_minor": 5
}
