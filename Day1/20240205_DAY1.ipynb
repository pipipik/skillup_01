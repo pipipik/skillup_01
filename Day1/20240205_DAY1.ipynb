{
 "cells": [
  {
   "cell_type": "code",
   "execution_count": 1,
   "id": "9d2e0c79",
   "metadata": {},
   "outputs": [
    {
     "name": "stdout",
     "output_type": "stream",
     "text": [
      "20.0\n"
     ]
    }
   ],
   "source": [
    "# 問題1\n",
    "value1, value2 = 1.5, 45\n",
    "answer_value = value2 / (value1 * value1)\n",
    "print(answer_value)"
   ]
  },
  {
   "cell_type": "code",
   "execution_count": 7,
   "id": "11a2b287",
   "metadata": {},
   "outputs": [
    {
     "name": "stdout",
     "output_type": "stream",
     "text": [
      "satoさんのBMIは20.0です\n"
     ]
    }
   ],
   "source": [
    "# 問題1\n",
    "sato_dict = {\"height\": 1.5, \"weight\": 45}\n",
    "BMI = sato_dict[\"weight\"] / (sato_dict[\"height\"]**2)\n",
    "print(f\"satoさんのBMIは{BMI}です\")"
   ]
  },
  {
   "cell_type": "code",
   "execution_count": null,
   "id": "c9a123f4",
   "metadata": {},
   "outputs": [],
   "source": []
  }
 ],
 "metadata": {
  "kernelspec": {
   "display_name": "Python 3 (ipykernel)",
   "language": "python",
   "name": "python3"
  },
  "language_info": {
   "codemirror_mode": {
    "name": "ipython",
    "version": 3
   },
   "file_extension": ".py",
   "mimetype": "text/x-python",
   "name": "python",
   "nbconvert_exporter": "python",
   "pygments_lexer": "ipython3",
   "version": "3.9.13"
  }
 },
 "nbformat": 4,
 "nbformat_minor": 5
}
